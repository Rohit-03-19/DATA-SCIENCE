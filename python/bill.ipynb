{
 "cells": [
  {
   "cell_type": "code",
   "execution_count": null,
   "id": "0d901a26",
   "metadata": {
    "vscode": {
     "languageId": "r"
    }
   },
   "outputs": [],
   "source": [
    "#write a program to create a billing system at supermarket.\n",
    "\n",
    "while True:\n",
    "    name = input(\"enter customer's name: \")\n",
    "    total = 0\n",
    "\n",
    "    while True: \n",
    "        print(\" enter the amount and quantity: \")\n",
    "        amount = float(input(\"enter the amount : \"))\n",
    "        quantity = float(input(\"enter the quantity : \"))\n",
    "        total += amount * quantity\n",
    "        repeat = input(\"do you want to add more items? (Yes/No): \")\n",
    "        if repeat == \"No\" or repeat == \"no\":\n",
    "            break\n",
    "    print (\"-\"*40)\n",
    "    print (\"Name: \", name)\n",
    "    print (\"Amount to be paid: \", total)\n",
    "    print (\"-\"*40)\n",
    "    print (\"*********Happy Shopping*********\")\n",
    "    \n",
    "    repeat1 = input(\"Do you want to go to the next customer? (Yes/No) : \" )\n",
    "    if repeat1 == \"no\" or repeat1 == \"No\":\n",
    "        break"
   ]
  },
  {
   "cell_type": "code",
   "execution_count": 1,
   "id": "eb797f54",
   "metadata": {
    "vscode": {
     "languageId": "r"
    }
   },
   "outputs": [
    {
     "ename": "ERROR",
     "evalue": "Error in parse(text = x, srcfile = src): <text>:3:7: unexpected symbol\n2: \n3: while True\n         ^\n",
     "output_type": "error",
     "traceback": [
      "Error in parse(text = x, srcfile = src): <text>:3:7: unexpected symbol\n2: \n3: while True\n         ^\nTraceback:\n"
     ]
    }
   ],
   "source": [
    "#write a program to create a billing system at supermarket.\n",
    "\n",
    "while True:\n",
    "    name = input(\"enter customer's name: \")\n",
    "    total = 0\n",
    "\n",
    "    while True: \n",
    "        print(\" enter the amount and quantity: \")\n",
    "        amount = float(input(\"enter the amount : \"))\n",
    "        quantity = float(input(\"enter the quantity : \"))\n",
    "        total += amount * quantity\n",
    "        repeat = input(\"do you want to add more items? (Yes/No): \")\n",
    "        if repeat == \"No\" or repeat == \"no\":\n",
    "            break\n",
    "    print (\"-\"*40)\n",
    "    print (\"Name: \", name)\n",
    "    print (\"Amount to be paid: \", total)\n",
    "    print (\"-\"*40)\n",
    "    print (\"*********Happy Shopping*********\")\n",
    "    \n",
    "    repeat1 = input(\"Do you want to go to the next customer? (Yes/No) : \" )\n",
    "    if repeat1 == \"no\" or repeat == \"No\":\n",
    "        break"
   ]
  }
 ],
 "metadata": {
  "kernelspec": {
   "display_name": "R",
   "language": "R",
   "name": "ir"
  },
  "language_info": {
   "codemirror_mode": "r",
   "file_extension": ".r",
   "mimetype": "text/x-r-source",
   "name": "R",
   "pygments_lexer": "r",
   "version": "3.6.1"
  }
 },
 "nbformat": 4,
 "nbformat_minor": 5
}
