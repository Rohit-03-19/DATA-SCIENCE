{
 "cells": [
  {
   "cell_type": "code",
   "execution_count": 1,
   "id": "eb797f54",
   "metadata": {},
   "outputs": [
    {
     "name": "stdout",
     "output_type": "stream",
     "text": [
      " enter the amount and quantity: \n",
      "----------------------------------------\n",
      "Name:  Rohit\n",
      "Amount to be paid:  1200.0\n",
      "----------------------------------------\n",
      "*********Happy Shopping*********\n"
     ]
    }
   ],
   "source": [
    "#write a program to create a billing system at supermarket.\n",
    "\n",
    "while True:\n",
    "    name = input(\"enter customer's name: \")\n",
    "    total = 0\n",
    "\n",
    "    while True: \n",
    "        print(\" enter the amount and quantity: \")\n",
    "        amount = float(input(\"enter the amount : \"))\n",
    "        quantity = float(input(\"enter the quantity : \"))\n",
    "        total += amount * quantity\n",
    "        repeat = input(\"do you want to add more items? (Yes/No): \")\n",
    "        if repeat == \"No\" or repeat == \"no\":\n",
    "            break\n",
    "    print (\"-\"*40)\n",
    "    print (\"Name: \", name)\n",
    "    print (\"Amount to be paid: \", total)\n",
    "    print (\"-\"*40)\n",
    "    print (\"*********Happy Shopping*********\")\n",
    "    \n",
    "    repeat1 = input(\"Do you want to go to the next customer? (Yes/No) : \" )\n",
    "    if repeat1 == \"no\" or repeat == \"No\":\n",
    "        break"
   ]
  }
 ],
 "metadata": {
  "kernelspec": {
   "display_name": "Rohit",
   "language": "python",
   "name": "python3"
  },
  "language_info": {
   "codemirror_mode": {
    "name": "ipython",
    "version": 3
   },
   "file_extension": ".py",
   "mimetype": "text/x-python",
   "name": "python",
   "nbconvert_exporter": "python",
   "pygments_lexer": "ipython3",
   "version": "3.12.8"
  }
 },
 "nbformat": 4,
 "nbformat_minor": 5
}
