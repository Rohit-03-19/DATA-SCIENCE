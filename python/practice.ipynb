{
 "cells": [
  {
   "cell_type": "code",
   "execution_count": 7,
   "id": "d4278951",
   "metadata": {},
   "outputs": [
    {
     "name": "stdout",
     "output_type": "stream",
     "text": [
      "lenght of string A is:  44\n",
      "No's of o occuring in the string is:  3\n",
      "Lower case of A is:   why fit in, when you are born to stand out!\n",
      "Upper case of A is:   WHY FIT IN, WHEN YOU ARE BORN TO STAND OUT!\n",
      "Index number of 'fit in' in A is:  5\n"
     ]
    }
   ],
   "source": [
    "A= \" Why fit in, When you are Born to Stand Out!\"\n",
    "print(\"lenght of string A is: \", len(A))\n",
    "print(\"No's of o occuring in the string is: \", A.count(\"o\"))\n",
    "b=A.lower()\n",
    "print(\"Lower case of A is: \", b)\n",
    "c=A.upper()\n",
    "print(\"Upper case of A is: \",c)\n",
    "print(\"Index number of 'fit in' in A is: \" ,A.find(\"fit in\"))"
   ]
  },
  {
   "cell_type": "code",
   "execution_count": null,
   "id": "f10633ef",
   "metadata": {},
   "outputs": [],
   "source": [
    "#To print a pattern \n",
    "# 1\n",
    "# 1 2 \n",
    "# 1 2 3\n",
    "# 1 2 3 4\n",
    "# 1 2 3 4 5\n"
   ]
  },
  {
   "cell_type": "code",
   "execution_count": 3,
   "id": "54ba3159",
   "metadata": {},
   "outputs": [
    {
     "name": "stdout",
     "output_type": "stream",
     "text": [
      "1 \n",
      "2 4 \n",
      "3 6 9 \n",
      "4 8 12 16 \n",
      "5 10 15 20 25 \n",
      "6 12 18 24 30 36 \n",
      "7 14 21 28 35 42 49 \n",
      "8 16 24 32 40 48 56 64 \n"
     ]
    }
   ],
   "source": [
    "# Write a program to display the following pattern\n",
    "# 1 \n",
    "# 2 4\n",
    "# 3 6 9\n",
    "# 4 8 12 16\n",
    "# 5 10 15 20 25\n",
    "# 6 12 18 24 30 36\n",
    "# 7 14 21 28 35 42 49\n",
    "# 8 16 24 32 40 48 56 64\n",
    "\n",
    "n = int(input(\"Enter the number upto which you want the pattern: \"))\n",
    "\n",
    "for i in range(1,n+1):\n",
    "    for j in range(1,i+1):\n",
    "        print(i*j, end=\" \")\n",
    "    print()\n"
   ]
  },
  {
   "cell_type": "code",
   "execution_count": 7,
   "id": "22865bcf",
   "metadata": {},
   "outputs": [
    {
     "name": "stdout",
     "output_type": "stream",
     "text": [
      "0 1 1 2 3 5 8 13 21 34 "
     ]
    }
   ],
   "source": [
    "# A Program to write fibocnnaci series till 10 numbers\n",
    "# 0,1,1,2,3,5,8,13,21,34\n",
    "\n",
    "a=0\n",
    "b=1\n",
    "n=int(input(\"enter the number upto which you want the Series: \"))\n",
    "print(a,end=\" \")\n",
    "print(b, end=\" \")\n",
    "for i in range(2,n):\n",
    "    c=a+b  \n",
    "    a=b  \n",
    "    b=c\n",
    "    print(c,end=\" \")\n",
    "          \n"
   ]
  },
  {
   "cell_type": "code",
   "execution_count": null,
   "id": "8428ac5a",
   "metadata": {},
   "outputs": [
    {
     "name": "stdout",
     "output_type": "stream",
     "text": [
      "Number is Prime.\n",
      "number is not a prime\n"
     ]
    }
   ],
   "source": [
    "#WAP to check if the number is prime or not.\n",
    "\n",
    "n=int(input(\"enter the Number for which you want to check whether it is prime or not: \"))\n",
    "if n<=1:\n",
    "    print(\"number is not prime\")\n",
    "else:\n",
    "    for i in range(2,n):\n",
    "        if n%i==0:\n",
    "            print(\"number is not a prime\")\n",
    "            break\n",
    "    else:\n",
    "        print(\"Number is Prime.\")  \n",
    "\n",
    "#efficent way \n",
    "import math\n",
    "\n",
    "def is_prime(n):\n",
    "    if n <= 1:\n",
    "        return False\n",
    "    if n <= 3:\n",
    "        return True\n",
    "    if n % 2 == 0 or n % 3 == 0:\n",
    "        return False\n",
    "\n",
    "    # Check only up to square root of n using 6k ± 1 optimization\n",
    "    for i in range(5, int(math.sqrt(n)) + 1, 6):\n",
    "        if n % i == 0 or n % (i + 2) == 0:\n",
    "            return False\n",
    "    return True\n",
    "\n",
    "# Example usage\n",
    "num = int(input(\"Enter a number: \"))\n",
    "if is_prime(num):\n",
    "    print(num, \"is a Prime Number.\")\n",
    "else:\n",
    "    print(num, \"is Not a Prime Number.\")\n"
   ]
  }
 ],
 "metadata": {
  "kernelspec": {
   "display_name": "Rohit",
   "language": "python",
   "name": "python3"
  },
  "language_info": {
   "codemirror_mode": {
    "name": "ipython",
    "version": 3
   },
   "file_extension": ".py",
   "mimetype": "text/x-python",
   "name": "python",
   "nbconvert_exporter": "python",
   "pygments_lexer": "ipython3",
   "version": "3.12.8"
  }
 },
 "nbformat": 4,
 "nbformat_minor": 5
}
