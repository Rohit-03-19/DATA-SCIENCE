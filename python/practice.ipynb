{
 "cells": [
  {
   "cell_type": "code",
   "execution_count": 7,
   "id": "d4278951",
   "metadata": {},
   "outputs": [
    {
     "name": "stdout",
     "output_type": "stream",
     "text": [
      "lenght of string A is:  44\n",
      "No's of o occuring in the string is:  3\n",
      "Lower case of A is:   why fit in, when you are born to stand out!\n",
      "Upper case of A is:   WHY FIT IN, WHEN YOU ARE BORN TO STAND OUT!\n",
      "Index number of 'fit in' in A is:  5\n"
     ]
    }
   ],
   "source": [
    "A= \" Why fit in, When you are Born to Stand Out!\"\n",
    "print(\"lenght of string A is: \", len(A))\n",
    "print(\"No's of o occuring in the string is: \", A.count(\"o\"))\n",
    "b=A.lower()\n",
    "print(\"Lower case of A is: \", b)\n",
    "c=A.upper()\n",
    "print(\"Upper case of A is: \",c)\n",
    "print(\"Index number of 'fit in' in A is: \" ,A.find(\"fit in\"))"
   ]
  },
  {
   "cell_type": "code",
   "execution_count": null,
   "id": "f10633ef",
   "metadata": {},
   "outputs": [],
   "source": [
    "#To print a pattern \n",
    "# 1\n",
    "# 1 2 \n",
    "# 1 2 3\n",
    "# 1 2 3 4\n",
    "# 1 2 3 4 5\n"
   ]
  },
  {
   "cell_type": "code",
   "execution_count": 3,
   "id": "54ba3159",
   "metadata": {},
   "outputs": [
    {
     "name": "stdout",
     "output_type": "stream",
     "text": [
      "1 \n",
      "2 4 \n",
      "3 6 9 \n",
      "4 8 12 16 \n",
      "5 10 15 20 25 \n",
      "6 12 18 24 30 36 \n",
      "7 14 21 28 35 42 49 \n",
      "8 16 24 32 40 48 56 64 \n"
     ]
    }
   ],
   "source": [
    "# Write a program to display the following pattern\n",
    "# 1 \n",
    "# 2 4\n",
    "# 3 6 9\n",
    "# 4 8 12 16\n",
    "# 5 10 15 20 25\n",
    "# 6 12 18 24 30 36\n",
    "# 7 14 21 28 35 42 49\n",
    "# 8 16 24 32 40 48 56 64\n",
    "\n",
    "n = int(input(\"Enter the number upto which you want the pattern: \"))\n",
    "\n",
    "for i in range(1,n+1):\n",
    "    for j in range(1,i+1):\n",
    "        print(i*j, end=\" \")\n",
    "    print()\n"
   ]
  }
 ],
 "metadata": {
  "kernelspec": {
   "display_name": "Rohit",
   "language": "python",
   "name": "python3"
  },
  "language_info": {
   "codemirror_mode": {
    "name": "ipython",
    "version": 3
   },
   "file_extension": ".py",
   "mimetype": "text/x-python",
   "name": "python",
   "nbconvert_exporter": "python",
   "pygments_lexer": "ipython3",
   "version": "3.12.8"
  }
 },
 "nbformat": 4,
 "nbformat_minor": 5
}
