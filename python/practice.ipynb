{
 "cells": [
  {
   "cell_type": "code",
   "execution_count": 7,
   "id": "d4278951",
   "metadata": {},
   "outputs": [
    {
     "name": "stdout",
     "output_type": "stream",
     "text": [
      "lenght of string A is:  44\n",
      "No's of o occuring in the string is:  3\n",
      "Lower case of A is:   why fit in, when you are born to stand out!\n",
      "Upper case of A is:   WHY FIT IN, WHEN YOU ARE BORN TO STAND OUT!\n",
      "Index number of 'fit in' in A is:  5\n"
     ]
    }
   ],
   "source": [
    "A= \" Why fit in, When you are Born to Stand Out!\"\n",
    "print(\"lenght of string A is: \", len(A))\n",
    "print(\"No's of o occuring in the string is: \", A.count(\"o\"))\n",
    "b=A.lower()\n",
    "print(\"Lower case of A is: \", b)\n",
    "c=A.upper()\n",
    "print(\"Upper case of A is: \",c)\n",
    "print(\"Index number of 'fit in' in A is: \" ,A.find(\"fit in\"))"
   ]
  },
  {
   "cell_type": "code",
   "execution_count": null,
   "id": "f10633ef",
   "metadata": {},
   "outputs": [],
   "source": [
    "#To print a pattern \n",
    "# 1\n",
    "# 1 2 \n",
    "# 1 2 3\n",
    "# 1 2 3 4\n",
    "# 1 2 3 4 5\n"
   ]
  },
  {
   "cell_type": "code",
   "execution_count": 3,
   "id": "54ba3159",
   "metadata": {},
   "outputs": [
    {
     "name": "stdout",
     "output_type": "stream",
     "text": [
      "1 \n",
      "2 4 \n",
      "3 6 9 \n",
      "4 8 12 16 \n",
      "5 10 15 20 25 \n",
      "6 12 18 24 30 36 \n",
      "7 14 21 28 35 42 49 \n",
      "8 16 24 32 40 48 56 64 \n"
     ]
    }
   ],
   "source": [
    "# Write a program to display the following pattern\n",
    "# 1 \n",
    "# 2 4\n",
    "# 3 6 9\n",
    "# 4 8 12 16\n",
    "# 5 10 15 20 25\n",
    "# 6 12 18 24 30 36\n",
    "# 7 14 21 28 35 42 49\n",
    "# 8 16 24 32 40 48 56 64\n",
    "\n",
    "n = int(input(\"Enter the number upto which you want the pattern: \"))\n",
    "\n",
    "for i in range(1,n+1):\n",
    "    for j in range(1,i+1):\n",
    "        print(i*j, end=\" \")\n",
    "    print()\n"
   ]
  },
  {
   "cell_type": "code",
   "execution_count": 7,
   "id": "22865bcf",
   "metadata": {},
   "outputs": [
    {
     "name": "stdout",
     "output_type": "stream",
     "text": [
      "0 1 1 2 3 5 8 13 21 34 "
     ]
    }
   ],
   "source": [
    "# A Program to write fibocnnaci series till 10 numbers\n",
    "# 0,1,1,2,3,5,8,13,21,34\n",
    "\n",
    "a=0\n",
    "b=1\n",
    "n=int(input(\"enter the number upto which you want the Series: \"))\n",
    "print(a,end=\" \")\n",
    "print(b, end=\" \")\n",
    "for i in range(2,n):\n",
    "    c=a+b  \n",
    "    a=b  \n",
    "    b=c\n",
    "    print(c,end=\" \")\n",
    "          \n"
   ]
  },
  {
   "cell_type": "code",
   "execution_count": null,
   "id": "8428ac5a",
   "metadata": {},
   "outputs": [
    {
     "name": "stdout",
     "output_type": "stream",
     "text": [
      "Number is Prime.\n",
      "number is not a prime\n"
     ]
    }
   ],
   "source": [
    "#WAP to check if the number is prime or not.\n",
    "\n",
    "n=int(input(\"enter the Number for which you want to check whether it is prime or not: \"))\n",
    "if n<=1:\n",
    "    print(\"number is not prime\")\n",
    "else:\n",
    "    for i in range(2,n):\n",
    "        if n%i==0:\n",
    "            print(\"number is not a prime\")\n",
    "            break\n",
    "    else:\n",
    "        print(\"Number is Prime.\")  \n",
    "\n",
    "#efficent way \n",
    "import math\n",
    "\n",
    "def is_prime(n):\n",
    "    if n <= 1:\n",
    "        return False\n",
    "    if n <= 3:\n",
    "        return True\n",
    "    if n % 2 == 0 or n % 3 == 0:\n",
    "        return False\n",
    "\n",
    "    # Check only up to square root of n using 6k ± 1 optimization\n",
    "    for i in range(5, int(math.sqrt(n)) + 1, 6):\n",
    "        if n % i == 0 or n % (i + 2) == 0:\n",
    "            return False\n",
    "    return True\n",
    "\n",
    "# Example usage\n",
    "num = int(input(\"Enter a number: \"))\n",
    "if is_prime(num):\n",
    "    print(num, \"is a Prime Number.\")\n",
    "else:\n",
    "    print(num, \"is Not a Prime Number.\")\n"
   ]
  },
  {
   "cell_type": "markdown",
   "id": "bc8afd9b",
   "metadata": {},
   "source": [
    "DICTIONARY"
   ]
  },
  {
   "cell_type": "code",
   "execution_count": 20,
   "id": "780096d9",
   "metadata": {},
   "outputs": [
    {
     "name": "stdout",
     "output_type": "stream",
     "text": [
      "{'a': 1, 'b': 3, 'c': 4}\n"
     ]
    },
    {
     "data": {
      "text/plain": [
       "8"
      ]
     },
     "execution_count": 20,
     "metadata": {},
     "output_type": "execute_result"
    }
   ],
   "source": [
    "#now we will be learning about dictionaries\n",
    "\n",
    "Dict= {'key1':1,'key2':\"2\",'key3':[3,3,3],'key4':(4,4,4),('key5'):5,(0,1):6}\n",
    "\n",
    "#To get all keys in the dictionary\n",
    "Dict.keys()\n",
    "\n",
    "#To get all the values in the dictionary\n",
    "Dict.values()\n",
    "\n",
    "#To get all the key value pairs in Dictionary\n",
    "Dict.items()\n",
    "\n",
    "#To access any element we use the keys in dictionary.\n",
    "Dict[\"key3\"]\n",
    "\n",
    "#to append an element in the dictionary.\n",
    "Dict[\"Graduation\"]='2007'\n",
    "Dict\n",
    "\n",
    "#TO delete and element from the Dictionary \n",
    "del(Dict['Graduation'])\n",
    "Dict\n",
    "\n",
    "#To verify that element is in the Dictionary.\n",
    "\"key1\" in Dict\n",
    "\n",
    "#Get function\n",
    "y=Dict.get(\"key1\")\n",
    "\n",
    "#update function\n",
    "dict1 = {'a': 1, 'b': 2}\n",
    "dict2 = {'b': 3, 'c': 4}\n",
    "dict1.update(dict2)\n",
    "print(dict1)  # Output: {'a': 1, 'b': 3, 'c': 4}\n",
    "\n",
    "#Pop function in dictinary\n",
    "Dict[\"key8\"]=8\n",
    "Dict\n",
    "Dict.pop(\"key8\")"
   ]
  },
  {
   "cell_type": "markdown",
   "id": "744dc4d8",
   "metadata": {},
   "source": [
    "SET AND ITS OPERATION"
   ]
  },
  {
   "cell_type": "code",
   "execution_count": 27,
   "id": "b87cd882",
   "metadata": {},
   "outputs": [
    {
     "data": {
      "text/plain": [
       "set"
      ]
     },
     "execution_count": 27,
     "metadata": {},
     "output_type": "execute_result"
    }
   ],
   "source": [
    "# set1=set(['r&b','disco','folk rock','hard rock','pop','progressive rock','rock','soft rock','soul'])\n",
    "\n",
    "A={'Thriller','Back in Black','AC/DC'}\n",
    "type(A)"
   ]
  }
 ],
 "metadata": {
  "kernelspec": {
   "display_name": "Rohit",
   "language": "python",
   "name": "python3"
  },
  "language_info": {
   "codemirror_mode": {
    "name": "ipython",
    "version": 3
   },
   "file_extension": ".py",
   "mimetype": "text/x-python",
   "name": "python",
   "nbconvert_exporter": "python",
   "pygments_lexer": "ipython3",
   "version": "3.12.8"
  }
 },
 "nbformat": 4,
 "nbformat_minor": 5
}
