{
 "cells": [
  {
   "cell_type": "code",
   "execution_count": 2,
   "id": "28cfc734",
   "metadata": {},
   "outputs": [
    {
     "name": "stdout",
     "output_type": "stream",
     "text": [
      "    ID\n",
      "83  84\n",
      "53  54\n",
      "70  71\n",
      "45  46\n",
      "44  45\n",
      "39  40\n",
      "22  23\n",
      "80  81\n",
      "10  11\n",
      "0    1\n"
     ]
    }
   ],
   "source": [
    "\n",
    "import pandas as pd\n",
    "\n",
    "data = pd.DataFrame({'ID': range(1, 101)})\n",
    "random_sample = data.sample(n=10, random_state=42)\n",
    "\n",
    "print(random_sample)"
   ]
  },
  {
   "cell_type": "code",
   "execution_count": 3,
   "id": "bc7a30b6",
   "metadata": {},
   "outputs": [
    {
     "name": "stdout",
     "output_type": "stream",
     "text": [
      "    ID\n",
      "0    1\n",
      "10  11\n",
      "20  21\n",
      "30  31\n",
      "40  41\n",
      "50  51\n",
      "60  61\n",
      "70  71\n",
      "80  81\n",
      "90  91\n"
     ]
    }
   ],
   "source": [
    "k = 10\n",
    "systematic_sample = data.iloc[::k]\n",
    "print(systematic_sample)\n"
   ]
  },
  {
   "cell_type": "code",
   "execution_count": 6,
   "id": "7e9a94d4",
   "metadata": {},
   "outputs": [
    {
     "ename": "ModuleNotFoundError",
     "evalue": "No module named 'sklearn'",
     "output_type": "error",
     "traceback": [
      "\u001b[1;31m---------------------------------------------------------------------------\u001b[0m",
      "\u001b[1;31mModuleNotFoundError\u001b[0m                       Traceback (most recent call last)",
      "Cell \u001b[1;32mIn[6], line 1\u001b[0m\n\u001b[1;32m----> 1\u001b[0m \u001b[38;5;28;01mfrom\u001b[39;00m\u001b[38;5;250m \u001b[39m\u001b[38;5;21;01msklearn\u001b[39;00m\u001b[38;5;21;01m.\u001b[39;00m\u001b[38;5;21;01mmodel_selection\u001b[39;00m\u001b[38;5;250m \u001b[39m\u001b[38;5;28;01mimport\u001b[39;00m train_test_split\n\u001b[0;32m      3\u001b[0m data \u001b[38;5;241m=\u001b[39m pd\u001b[38;5;241m.\u001b[39mDataFrame({\n\u001b[0;32m      4\u001b[0m     \u001b[38;5;124m'\u001b[39m\u001b[38;5;124mGender\u001b[39m\u001b[38;5;124m'\u001b[39m: [\u001b[38;5;124m'\u001b[39m\u001b[38;5;124mMale\u001b[39m\u001b[38;5;124m'\u001b[39m, \u001b[38;5;124m'\u001b[39m\u001b[38;5;124mFemale\u001b[39m\u001b[38;5;124m'\u001b[39m, \u001b[38;5;124m'\u001b[39m\u001b[38;5;124mFemale\u001b[39m\u001b[38;5;124m'\u001b[39m, \u001b[38;5;124m'\u001b[39m\u001b[38;5;124mMale\u001b[39m\u001b[38;5;124m'\u001b[39m, \u001b[38;5;124m'\u001b[39m\u001b[38;5;124mFemale\u001b[39m\u001b[38;5;124m'\u001b[39m, \u001b[38;5;124m'\u001b[39m\u001b[38;5;124mMale\u001b[39m\u001b[38;5;124m'\u001b[39m],\n\u001b[0;32m      5\u001b[0m     \u001b[38;5;124m'\u001b[39m\u001b[38;5;124mScore\u001b[39m\u001b[38;5;124m'\u001b[39m: [\u001b[38;5;241m88\u001b[39m, \u001b[38;5;241m92\u001b[39m, \u001b[38;5;241m95\u001b[39m, \u001b[38;5;241m70\u001b[39m, \u001b[38;5;241m76\u001b[39m, \u001b[38;5;241m85\u001b[39m]\n\u001b[0;32m      6\u001b[0m })\n\u001b[0;32m      8\u001b[0m stratified_sample, _ \u001b[38;5;241m=\u001b[39m train_test_split(\n\u001b[0;32m      9\u001b[0m     data, test_size\u001b[38;5;241m=\u001b[39m\u001b[38;5;241m0.5\u001b[39m, stratify\u001b[38;5;241m=\u001b[39mdata[\u001b[38;5;124m'\u001b[39m\u001b[38;5;124mGender\u001b[39m\u001b[38;5;124m'\u001b[39m], random_state\u001b[38;5;241m=\u001b[39m\u001b[38;5;241m42\u001b[39m)\n",
      "\u001b[1;31mModuleNotFoundError\u001b[0m: No module named 'sklearn'"
     ]
    }
   ],
   "source": [
    "from sklearn.model_selection import train_test_split\n",
    "\n",
    "data = pd.DataFrame({\n",
    "    'Gender': ['Male', 'Female', 'Female', 'Male', 'Female', 'Male'],\n",
    "    'Score': [88, 92, 95, 70, 76, 85]\n",
    "})\n",
    "\n",
    "stratified_sample, _ = train_test_split(\n",
    "    data, test_size=0.5, stratify=data['Gender'], random_state=42)\n",
    "\n",
    "print(stratified_sample)\n"
   ]
  },
  {
   "cell_type": "code",
   "execution_count": 7,
   "id": "56009c7e",
   "metadata": {},
   "outputs": [
    {
     "name": "stdout",
     "output_type": "stream",
     "text": [
      "    ID\n",
      "70  71\n",
      "71  72\n",
      "72  73\n",
      "73  74\n",
      "74  75\n",
      "75  76\n",
      "76  77\n",
      "77  78\n",
      "78  79\n",
      "79  80\n",
      "10  11\n",
      "11  12\n",
      "12  13\n",
      "13  14\n",
      "14  15\n",
      "15  16\n",
      "16  17\n",
      "17  18\n",
      "18  19\n",
      "19  20\n"
     ]
    }
   ],
   "source": [
    "# Simulating 100 people in 10 clusters of 10 each\n",
    "data = pd.DataFrame({'ID': range(1, 101)})\n",
    "clusters = [data.iloc[i:i+10] for i in range(0, 100, 10)]\n",
    "\n",
    "import random\n",
    "selected_clusters = random.sample(clusters, 2)\n",
    "\n",
    "cluster_sample = pd.concat(selected_clusters)\n",
    "print(cluster_sample)\n"
   ]
  },
  {
   "cell_type": "code",
   "execution_count": null,
   "id": "89677294",
   "metadata": {},
   "outputs": [],
   "source": []
  }
 ],
 "metadata": {
  "kernelspec": {
   "display_name": "Rohit",
   "language": "python",
   "name": "python3"
  },
  "language_info": {
   "codemirror_mode": {
    "name": "ipython",
    "version": 3
   },
   "file_extension": ".py",
   "mimetype": "text/x-python",
   "name": "python",
   "nbconvert_exporter": "python",
   "pygments_lexer": "ipython3",
   "version": "3.12.8"
  }
 },
 "nbformat": 4,
 "nbformat_minor": 5
}
